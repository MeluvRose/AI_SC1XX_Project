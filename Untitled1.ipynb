{
  "nbformat": 4,
  "nbformat_minor": 0,
  "metadata": {
    "colab": {
      "name": "Untitled1.ipynb",
      "private_outputs": true,
      "provenance": [],
      "collapsed_sections": []
    },
    "kernelspec": {
      "name": "python3",
      "display_name": "Python 3"
    },
    "language_info": {
      "name": "python"
    }
  },
  "cells": [
    {
      "cell_type": "code",
      "metadata": {
        "id": "EaCLyRhF7Rst"
      },
      "source": [
        "# Upload file\n",
        "\n",
        "from google.colab import files\n",
        "files.upload()"
      ],
      "execution_count": null,
      "outputs": []
    },
    {
      "cell_type": "code",
      "metadata": {
        "id": "ARKCu0YF8plZ"
      },
      "source": [
        "# Dataframe\n",
        "import pandas as pd\n",
        "\n",
        "file_data = \"/content/vgames2.csv\"\n",
        "data = pd.read_csv(file_data)\n",
        "\n",
        "# data.dropna(inplace=True)\n",
        "data = data[~(data['Year'].isna() | data[\"Genre\"].isna())]\n",
        "data.drop(\"Unnamed: 0\", axis=1, inplace=True)\n",
        "data.reset_index(drop=True, inplace=True)\n",
        "\n",
        "data.head()"
      ],
      "execution_count": null,
      "outputs": []
    },
    {
      "cell_type": "code",
      "metadata": {
        "id": "2_VVpbYQABx5"
      },
      "source": [
        "# Feature\n",
        "\n",
        "name = data.Name\n",
        "platform = data.Platform\n",
        "year = data.Year.astype(int)\n",
        "genre = data.Genre\n",
        "publisher = data.Publisher\n",
        "sales = data.loc[:, \"NA_Sales\":]"
      ],
      "execution_count": null,
      "outputs": []
    },
    {
      "cell_type": "code",
      "metadata": {
        "id": "qU163iitHyfD"
      },
      "source": [
        "# Data preprocessing\n",
        "\n",
        "def unit_to_num(val):\n",
        "  a = 1\n",
        "\n",
        "  if 'K' in val:\n",
        "    val = val.replace('K','')\n",
        "    a = pow(10, 3)\n",
        "  elif 'M' in val:\n",
        "    val = val.replace('M','')\n",
        "    a = pow(10, 6)\n",
        "  return float(val) * a # 1 = 100\n",
        "\n",
        "def num_to_year(year):\n",
        "  i = 0\n",
        "  y = year\n",
        "\n",
        "  if y < 1000:\n",
        "    if (y % 100) > 70:\n",
        "        y = 1900 + y\n",
        "    else:\n",
        "        y = 2000 + y\n",
        "  return y\n",
        "\n",
        "def group_platform(platform):\n",
        "  nintendo = ['DS', 'Wii', 'GBA', 'GC', '3DS', 'GB', 'NES', 'N64', 'WiiU']\n",
        "  ps = ['PSP', 'PS3', 'PS', 'PS4', 'PS2', 'PSV']\n",
        "  xbox = ['XB', 'X360', 'XOne']\n",
        "  res = platform\n",
        "\n",
        "  if platform in nintendo:\n",
        "    res = \"Nintendo\"\n",
        "  elif platform in ps:\n",
        "    res = \"PlayStation\"\n",
        "  elif platform in xbox:\n",
        "    res = \"Xbox\"\n",
        "  else:\n",
        "    if platform != \"PC\":\n",
        "      res = \"Etc\"\n",
        "  \n",
        "  return res\n",
        "\n",
        "\n",
        "# year를 모두 4자리수로\n",
        "year = year.apply(num_to_year)\n",
        "\n",
        "# platform을 시리즈끼리 묶음\n",
        "platform = platform.apply(group_platform)"
      ],
      "execution_count": null,
      "outputs": []
    },
    {
      "cell_type": "code",
      "metadata": {
        "id": "mmx10-hRCHul"
      },
      "source": [
        "# df = pd.concat([name, year, sales], axis = 1)\n",
        "# df.iloc[72]"
      ],
      "execution_count": null,
      "outputs": []
    },
    {
      "cell_type": "code",
      "metadata": {
        "id": "OIcWoLPyMFm0"
      },
      "source": [
        "# 지역에 따라 선호하는 장르\n",
        "\n",
        "list_res = []\n",
        "list_genre = []\n",
        "\n",
        "# sales를 numeric한 데이터로\n",
        "for col in sales.columns:\n",
        "  sales[col] = sales[col].apply(unit_to_num)\n",
        "df = pd.concat([genre.copy(),sales.copy()], axis = 1)\n",
        "\n",
        "# List of genre\n",
        "for s in genre:\n",
        "  if s in list_genre:\n",
        "    continue\n",
        "  list_genre.append(s)\n",
        "\n",
        "# genre 별 sales의 합\n",
        "for genre in list_genre:\n",
        "  condition = (df[\"Genre\"] == genre)\n",
        "  tmp = df[condition].drop(\"Genre\", axis = 1)\n",
        "  list_res.append(tmp.sum())\n",
        "\n",
        "df_res = pd.DataFrame(list_res)\n",
        "df_genre = pd.DataFrame(list_genre, columns=[\"Genre\"])\n",
        "df_res = pd.concat([df_genre, df_res], axis = 1)\n",
        "df_res"
      ],
      "execution_count": null,
      "outputs": []
    },
    {
      "cell_type": "code",
      "metadata": {
        "id": "dQwlTo9Lvf79"
      },
      "source": [
        "# 연도별 게임의 트렌드 분석\n",
        "\n",
        "genre_2 = data.Genre\n",
        "sales_2 = data.loc[:, \"NA_Sales\":]\n",
        "\n",
        "# sales의 값들의 합계\n",
        "for col in sales_2.columns:\n",
        "  sales_2[col] = sales_2[col].apply(unit_to_num)\n",
        "sales_2 = sales_2.sum(axis=1)\n",
        "\n",
        "df_2 = pd.concat([year, platform, genre_2, sales_2], axis=1)\n",
        "df_2.columns = [\"Year\", \"Platform\", \"Genre\", \"Sales\"]\n",
        "df_2"
      ],
      "execution_count": null,
      "outputs": []
    },
    {
      "cell_type": "code",
      "metadata": {
        "id": "2Ayej_RMbzRN"
      },
      "source": [
        "# 'Year'를 연도별로 묶음\n",
        "\n",
        "def group_years(year):\n",
        "  res = None\n",
        "\n",
        "  if (year % 1980) < 10:\n",
        "    res = \"1980s\"\n",
        "  elif (year % 1990) < 10:\n",
        "    res = \"1990s\"\n",
        "  elif (year % 2000) < 10:\n",
        "    res = \"2000s\"\n",
        "  elif (year % 2010) < 10:\n",
        "    res = \"2010s\"\n",
        "  else:\n",
        "    res = \"2020s\"\n",
        "  return res\n",
        "\n",
        "df_2.Year = df_2.Year.apply(group_years)\n",
        "df_2"
      ],
      "execution_count": null,
      "outputs": []
    },
    {
      "cell_type": "code",
      "metadata": {
        "id": "hB1xsD36Axuc"
      },
      "source": [
        "# list_p = []\n",
        "# list_y = []\n",
        "# list_g = list_genre\n",
        "\n",
        "# for p in df_2[\"Platform\"]:\n",
        "#   if p in list_p:\n",
        "#     continue\n",
        "#   list_p.append(p)\n",
        "\n",
        "# for y in df_2[\"Year\"]:\n",
        "#   if y in list_y:\n",
        "#     continue\n",
        "#   list_y.append(y)  \n",
        "\n",
        "# list_y.sort()\n",
        "\n",
        "# list_p, list_y, list_g"
      ],
      "execution_count": null,
      "outputs": []
    },
    {
      "cell_type": "code",
      "metadata": {
        "id": "xwJQREe8RFST"
      },
      "source": [
        "# Counting 'platform' and 'genre' (분포)\n",
        "count_p = pd.crosstab(df_2.Year, df_2.Platform, margins=True)\n",
        "count_g = pd.crosstab(df_2.Year, df_2.Genre, margins=True)\n",
        "# count_p, count_g\n",
        "count_p, count_g"
      ],
      "execution_count": null,
      "outputs": []
    },
    {
      "cell_type": "code",
      "metadata": {
        "id": "icAfTSuXvkiD"
      },
      "source": [
        "# 출고량이 높은 게임에 대한 분석\n",
        "\n",
        "df_3 = pd.concat([name, year, platform, genre_2, sales_2], axis=1)\n",
        "df_3.columns = [\"Name\", \"Year\", \"Platform\", \"Genre\", \"Sales\"]\n",
        "\n",
        "# 00년도 or 10년도에서 총 출고량 상위 50개를 고름\n",
        "df_3.sort_values(by=['Sales'], ascending=False, inplace=True)\n",
        "df_3[\"Year\"] = df_3[\"Year\"].apply(group_years)\n",
        "\n",
        "condition = ((df_3.Year == \"2000s\") | (df_3.Year == \"2010s\"))\n",
        "top_games = df_3[condition].head(50)\n",
        "top_games"
      ],
      "execution_count": null,
      "outputs": []
    },
    {
      "cell_type": "code",
      "metadata": {
        "id": "RgHA88LxxPQX"
      },
      "source": [
        ""
      ],
      "execution_count": null,
      "outputs": []
    }
  ]
}